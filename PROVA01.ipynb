{
 "cells": [
  {
   "cell_type": "code",
   "execution_count": 2,
   "id": "b5089fe8-dec5-45c8-8cfc-58b02537244a",
   "metadata": {},
   "outputs": [
    {
     "name": "stdout",
     "output_type": "stream",
     "text": [
      "O número de elementos na lista é:  3\n"
     ]
    }
   ],
   "source": [
    "class No:\n",
    "    def __init__(self, valor):\n",
    "        self.valor = valor\n",
    "        self.proximo = None\n",
    "\n",
    "class ListaEncadeada:\n",
    "    def __init__(self):\n",
    "        self.inicio = None\n",
    "\n",
    "    def inserir(self, valor):\n",
    "        novo_no = No(valor)\n",
    "        if self.inicio is None:\n",
    "            self.inicio = novo_no\n",
    "        else:\n",
    "            atual = self.inicio\n",
    "            while atual.proximo:  \n",
    "                atual = atual.proximo\n",
    "            atual.proximo = novo_no\n",
    "\n",
    "    def contar(self):\n",
    "        contador = 0\n",
    "        atual = self.inicio\n",
    "        while atual:\n",
    "            contador += 1\n",
    "            atual = atual.proximo\n",
    "        return contador\n",
    "\n",
    "if __name__ == \"__main__\":\n",
    "    lista = ListaEncadeada()\n",
    "    lista.inserir(5)\n",
    "    lista.inserir(15)\n",
    "    lista.inserir(25)\n",
    "\n",
    "    print(\"O número de elementos na lista é: \", lista.contar())\n"
   ]
  },
  {
   "cell_type": "code",
   "execution_count": null,
   "id": "95c79b20-f94c-4f26-a3a2-0c46c3f044fa",
   "metadata": {},
   "outputs": [],
   "source": []
  },
  {
   "cell_type": "code",
   "execution_count": null,
   "id": "180d0700-cd84-43c7-841b-e071a9f13561",
   "metadata": {},
   "outputs": [],
   "source": []
  },
  {
   "cell_type": "code",
   "execution_count": null,
   "id": "fd6f7661-a331-4210-b7c7-8642a449fd03",
   "metadata": {},
   "outputs": [],
   "source": []
  },
  {
   "cell_type": "code",
   "execution_count": null,
   "id": "154a8200-9d78-45a1-b8ac-337d2b2b97ee",
   "metadata": {},
   "outputs": [],
   "source": []
  }
 ],
 "metadata": {
  "kernelspec": {
   "display_name": "Python 3 (ipykernel)",
   "language": "python",
   "name": "python3"
  },
  "language_info": {
   "codemirror_mode": {
    "name": "ipython",
    "version": 3
   },
   "file_extension": ".py",
   "mimetype": "text/x-python",
   "name": "python",
   "nbconvert_exporter": "python",
   "pygments_lexer": "ipython3",
   "version": "3.12.4"
  }
 },
 "nbformat": 4,
 "nbformat_minor": 5
}
